{
 "cells": [
  {
   "cell_type": "markdown",
   "id": "4f035091-0350-4950-8deb-4430fea7cd4d",
   "metadata": {},
   "source": [
    "# Exercise Idea\n",
    "Download the daily global sea surface temperature data for a specific region of interest using the MUR-JPL-L4-GLOB-v4.1 dataset. Mask out the land area from the dataset and save the data as netCDF files.\n"
   ]
  },
  {
   "cell_type": "markdown",
   "id": "812ac6b3-f467-40f1-926f-8a97ff8b671d",
   "metadata": {},
   "source": [
    "## Dataset Information\n",
    "Dataset Name: MUR-JPL-L4-GLOB-v4.1 Aggregation <br>\n",
    "Data Provider: NASA Jet Propulsion Laboratory (JPL) <br>\n",
    "Data Source: GHRSST Global High Resolution Sea Surface Temperature (SST) <br>\n",
    "Description: The MUR-JPL-L4-GLOB-v4.1 is a gridded Level 4 analysis dataset that merges multi-sensor observations from various satellites and in-situ platforms to provide a global coverage of the sea surface temperature. This dataset is available at 1 km resolution and has a temporal resolution of one day. <br>\n",
    "Website: https://podaac.jpl.nasa.gov/Multi-scale_Ultra-high_Resolution_MUR-SST"
   ]
  },
  {
   "cell_type": "code",
   "execution_count": null,
   "id": "41ae1571-51fa-4f06-88b2-269b6d46ef04",
   "metadata": {},
   "outputs": [],
   "source": [
    "# Imports\n",
    "import numpy as np\n",
    "from siphon.catalog import TDSCatalog\n",
    "import xarray as xr\n",
    "from xarray.backends import NetCDF4DataStore\n",
    "import netCDF4\n",
    "from datetime import datetime, timedelta\n",
    "from global_land_mask import globe\n",
    "\n",
    "# Set the path to the folder that you want you data to end up in\n",
    "save_folder_path = '/path/to/your/data/'\n",
    "\n",
    "# Downloading Data and Pre-processing\n",
    "# Choose the dataset from the THREDDS catalog\n",
    "ds = TDSCatalog('https://thredds.jpl.nasa.gov/thredds/catalog_ghrsst_gds2.xml')\n",
    "ds = ds.datasets['MUR-JPL-L4-GLOB-v4.1 Aggregation']\n",
    "\n",
    "# Temporal settings\n",
    "start_year = 2020\n",
    "start_month = 4\n",
    "n_years = 4\n",
    "n_days = 61\n",
    "\n",
    "# Spatial settings\n",
    "north=60\n",
    "south=54\n",
    "west=7\n",
    "east=15\n",
    "\n",
    "# Start the query\n",
    "ncss = ds.subset()\n",
    "query = ncss.query()\n",
    "\n",
    "for j in range(n_years):\n",
    "    for i in range(n_days):\n",
    "\n",
    "        query.time_range(datetime(start_year+j,start_month,1) + timedelta(days=i),\n",
    "                         datetime(start_year+j,start_month,1) + timedelta(days=1+i)) # time range between now and one day ahead - this is not available - only available at one day before resolution  \n",
    "\n",
    "        query.lonlat_box(north=north, south=south, east=east, west=west) # choose lat and lon boundaries\n",
    "        query.variables('analysed_sst')   \n",
    "\n",
    "        sst = ncss.get_data(query)\n",
    "        sst = xr.open_dataset(NetCDF4DataStore(sst))\n",
    "        sst['analysed_sst']=(('time', 'lat', 'lon'), sst.analysed_sst.data-273.15)\n",
    "\n",
    "        # mask land\n",
    "        lat,lon=np.meshgrid(sst.lat,sst.lon)\n",
    "        is_in_ocean = globe.is_ocean(lat, lon)\n",
    "        masked_sst=(sst.analysed_sst.data.squeeze()*is_in_ocean.T)\n",
    "        masked_sst[masked_sst==0.]=np.nan\n",
    "        masked_sst_labels=xr.DataArray(data=masked_sst[np.newaxis,:,:],\n",
    "                                dims=['time','lat','lon'])\n",
    "        sst['masked_sst']=masked_sst_labels\n",
    "\n",
    "        # save sst data to netcdf, you can choose any naming scheme you like\n",
    "        sst.to_netcdf(save_folder_path + 'sst_{}.nc'.format((sst.time.dt.strftime(\"%Y%m%d\")).values.tolist()[0]))"
   ]
  }
 ],
 "metadata": {
  "kernelspec": {
   "display_name": "Python 3 (ipykernel)",
   "language": "python",
   "name": "python3"
  },
  "language_info": {
   "codemirror_mode": {
    "name": "ipython",
    "version": 3
   },
   "file_extension": ".py",
   "mimetype": "text/x-python",
   "name": "python",
   "nbconvert_exporter": "python",
   "pygments_lexer": "ipython3",
   "version": "3.10.6"
  }
 },
 "nbformat": 4,
 "nbformat_minor": 5
}
